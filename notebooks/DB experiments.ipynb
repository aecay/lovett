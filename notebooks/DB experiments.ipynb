{
 "cells": [
  {
   "cell_type": "code",
   "execution_count": 1,
   "metadata": {
    "collapsed": true
   },
   "outputs": [],
   "source": [
    "%load_ext autoreload\n",
    "%autoreload 2"
   ]
  },
  {
   "cell_type": "code",
   "execution_count": 27,
   "metadata": {
    "collapsed": false
   },
   "outputs": [],
   "source": [
    "import lovett.loader\n",
    "import lovett.db\n",
    "import lovett.query\n",
    "import lovett.ilovett\n",
    "from sqlalchemy.sql import select"
   ]
  },
  {
   "cell_type": "code",
   "execution_count": 8,
   "metadata": {
    "collapsed": false
   },
   "outputs": [
    {
     "data": {
      "text/html": [
       "<script>$(\"head\").append($(\"<style type='text/css' />\").text('.tree-node {\\n    margin-left: 20px;\\n    border: 1px solid silver;\\n    border-left: 4px solid #4682B4;\\n    background-color: #EFEFEF;\\n    padding: 2px;\\n    cursor: pointer;\\n    color: black;\\n}\\n\\n.tree-text {\\n    margin-left: 20px;\\n    padding-left: 4px;\\n    padding-right: 4px;\\n    border: 1px solid black;\\n    background-color: white;\\n    color: black;\\n}\\n\\n.tree-root {\\n    width: 100%;\\n}\\n'));</script><script>//global require: false\n",
       "\n",
       "require(\n",
       "    [\"nbextensions/widgets/widgets/js/widget\",\n",
       "     \"nbextensions/widgets/widgets/js/manager\"],\n",
       "    function(widget, manager) {\n",
       "        // Define the view\n",
       "        var TreesView = widget.DOMWidgetView.extend({\n",
       "            initialHtml: \"<div class=\\\"treeview-header\\\">\" +\n",
       "                \"<span class=\\\"treeview-info\\\">\" +\n",
       "                \"<span class=\\\"treeview-index\\\"></span>\" +\n",
       "                \"/\" +\n",
       "                \"<span class=\\\"treeview-maxindex\\\"></span>\" +\n",
       "                \"</span>\" +\n",
       "                \"<span class=\\\"treeview-buttons\\\">\" +\n",
       "                \"<button type=\\\"button\\\" class=\\\"back-btn\\\">&lt;</input>\" +\n",
       "                \"<button type=\\\"button\\\" class=\\\"fwd-btn\\\">&gt;</input>\" +\n",
       "                \"</span>\" +\n",
       "                \"</div>\" +\n",
       "                \"<div class=\\\"tree-display\\\" id=\\\"tree-display\\\"></div>\",\n",
       "\n",
       "            render: function () {\n",
       "                var el = this.$el;\n",
       "                var that = this;\n",
       "                el.html(this.initialHtml);\n",
       "                el.find(\".back-btn\").click(function () { that.back(); });\n",
       "                el.find(\".fwd-btn\").click(function () { that.fwd(); });\n",
       "                el.find(\".treeview-maxindex\").text(this.model.get(\"maxindex\") + 1);\n",
       "                this.model.on(\"change:index\", function () { that.showTree(); });\n",
       "                this.model.on(\"change:html\", function () { that.htmlChange(); });\n",
       "                this.initializeView();\n",
       "            },\n",
       "\n",
       "            initializeView: function () {\n",
       "                this.showTree();\n",
       "\n",
       "            },\n",
       "\n",
       "            back: function () {\n",
       "                this.model.set(\"index\",\n",
       "                               Math.max(this.model.get(\"index\") - 1, 0));\n",
       "            },\n",
       "\n",
       "            fwd: function () {\n",
       "                this.model.set(\"index\",\n",
       "                               Math.min(this.model.get(\"index\") + 1,\n",
       "                                        this.model.get(\"maxindex\")));\n",
       "            },\n",
       "\n",
       "            showTree: function () {\n",
       "                var idx = this.model.get(\"index\");\n",
       "                this.$el.find(\".treeview-index\").text(idx + 1);\n",
       "                this.send({ action: \"get-tree\", index: idx });\n",
       "                // this.$el.find(\"#tree-display\").html(\n",
       "                //     this.model.get(\"trees\")[this.model.get(\"index\")]);\n",
       "            },\n",
       "\n",
       "            htmlChange: function () {\n",
       "                this.$el.find(\"#tree-display\").html(this.model.get(\"html\"));\n",
       "            }\n",
       "\n",
       "        });\n",
       "\n",
       "        var ResultsView = TreesView.extend({\n",
       "            initialHtml: \"<div class=\\\"treeview-header\\\">\" +\n",
       "                \"<div class=\\\"treeview-query\\\">Results for query \" +\n",
       "                \"<span class=\\\"treeview-query-html\\\"></span>\" +\n",
       "                \"</div>\" +\n",
       "                \"<span class=\\\"treeview-info\\\">\" +\n",
       "                \"<span class=\\\"treeview-index\\\"></span>\" +\n",
       "                \"/\" +\n",
       "                \"<span class=\\\"treeview-maxindex\\\"></span>\" +\n",
       "                \"</span>\" +\n",
       "                \"<span class=\\\"treeview-buttons\\\">\" +\n",
       "                \"<button type=\\\"button\\\" class=\\\"back-btn\\\">&lt;</input>\" +\n",
       "                \"<button type=\\\"button\\\" class=\\\"fwd-btn\\\">&gt;</input>\" +\n",
       "                \"</span>\" +\n",
       "                \"</div>\" +\n",
       "                \"<div class=\\\"tree-display\\\" id=\\\"tree-display\\\"></div>\",\n",
       "\n",
       "            initializeView: function () {\n",
       "                this.$el.find(\".treeview-query-html\").html(this.model.get(\"query_html\"));\n",
       "                this.showTree();\n",
       "            }\n",
       "        });\n",
       "\n",
       "        // Register the view with the widget manager.\n",
       "        manager.WidgetManager.register_widget_view('TreesView', TreesView);\n",
       "        manager.WidgetManager.register_widget_view('ResultsView', ResultsView);\n",
       "});\n",
       "</script>"
      ],
      "text/plain": [
       "<IPython.core.display.HTML object>"
      ]
     },
     "metadata": {},
     "output_type": "display_data"
    }
   ],
   "source": [
    "lovett.ilovett.initialize()"
   ]
  },
  {
   "cell_type": "code",
   "execution_count": 3,
   "metadata": {
    "collapsed": true
   },
   "outputs": [],
   "source": [
    "l = lovett.loader.FileLoader(\"/home/aecay/development/lovett/\", extension=\".ref\")"
   ]
  },
  {
   "cell_type": "code",
   "execution_count": 40,
   "metadata": {
    "collapsed": false
   },
   "outputs": [
    {
     "name": "stdout",
     "output_type": "stream",
     "text": [
      "CPU times: user 530 ms, sys: 0 ns, total: 530 ms\n",
      "Wall time: 538 ms\n"
     ]
    }
   ],
   "source": [
    "%time c = l.corpus()"
   ]
  },
  {
   "cell_type": "code",
   "execution_count": 41,
   "metadata": {
    "collapsed": false,
    "scrolled": true
   },
   "outputs": [
    {
     "name": "stdout",
     "output_type": "stream",
     "text": [
      "CPU times: user 22.8 s, sys: 70 ms, total: 22.9 s\n",
      "Wall time: 23.1 s\n"
     ]
    }
   ],
   "source": [
    "%time d = c.to_db(filename=\"test.pcdb\")"
   ]
  },
  {
   "cell_type": "code",
   "execution_count": 62,
   "metadata": {
    "collapsed": false,
    "scrolled": true
   },
   "outputs": [
    {
     "name": "stdout",
     "output_type": "stream",
     "text": [
      "CPU times: user 46.7 ms, sys: 0 ns, total: 46.7 ms\n",
      "Wall time: 54.9 ms\n"
     ]
    }
   ],
   "source": [
    "%time mt = d.matching_trees(lovett.query.label(\"IP\") & lovett.query.idoms((lovett.query.label(\"VBP\") | lovett.query.label(\"VBD\")) & lovett.query.sprec(lovett.query.label(\"NP-ACC\"))))"
   ]
  },
  {
   "cell_type": "code",
   "execution_count": 63,
   "metadata": {
    "collapsed": true
   },
   "outputs": [],
   "source": [
    "mt"
   ]
  },
  {
   "cell_type": "code",
   "execution_count": 57,
   "metadata": {
    "collapsed": false
   },
   "outputs": [],
   "source": [
    "d2 = lovett.db.CorpusDb(filename=\"test.pcdb\")"
   ]
  },
  {
   "cell_type": "code",
   "execution_count": 59,
   "metadata": {
    "collapsed": false
   },
   "outputs": [],
   "source": [
    "d2.matching_trees(lovett.query.label(\"NP-ACC\"))"
   ]
  }
 ],
 "metadata": {
  "kernelspec": {
   "display_name": "Python 3",
   "language": "python",
   "name": "python3"
  },
  "language_info": {
   "codemirror_mode": {
    "name": "ipython",
    "version": 3
   },
   "file_extension": ".py",
   "mimetype": "text/x-python",
   "name": "python",
   "nbconvert_exporter": "python",
   "pygments_lexer": "ipython3",
   "version": "3.5.1"
  }
 },
 "nbformat": 4,
 "nbformat_minor": 0
}
