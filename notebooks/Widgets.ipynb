{
 "cells": [
  {
   "cell_type": "code",
   "execution_count": 1,
   "metadata": {
    "collapsed": false
   },
   "outputs": [],
   "source": [
    "%load_ext autoreload\n",
    "%autoreload 2"
   ]
  },
  {
   "cell_type": "code",
   "execution_count": 37,
   "metadata": {
    "collapsed": false,
    "scrolled": true
   },
   "outputs": [
    {
     "data": {
      "text/html": [
       "<script>$(\"head\").append($(\"<style type='text/css' />\").text('.tree-node {\\n    margin-left: 20px;\\n    border: 1px solid silver;\\n    border-left: 4px solid #4682B4;\\n    background-color: #EFEFEF;\\n    padding: 2px;\\n    cursor: pointer;\\n    color: black;\\n}\\n\\n.tree-text {\\n    margin-left: 20px;\\n    padding-left: 4px;\\n    padding-right: 4px;\\n    border: 1px solid black;\\n    background-color: white;\\n    color: black;\\n}\\n\\n.tree-root {\\n    width: 100%;\\n}\\n'));</script><script>//global require: false\n",
       "\n",
       "require(\n",
       "    [\"nbextensions/widgets/widgets/js/widget\",\n",
       "     \"nbextensions/widgets/widgets/js/manager\"],\n",
       "    function(widget, manager) {\n",
       "        // Define the view\n",
       "        var TreesView = widget.DOMWidgetView.extend({\n",
       "            render: function () {\n",
       "                var el = this.$el;\n",
       "                var that = this;\n",
       "                el.html(\"<div class=\\\"treeview-header\\\">\" +\n",
       "                        \"<span class=\\\"treeview-info\\\">\" +\n",
       "                        \"<span class=\\\"treeview-index\\\"></span>\" +\n",
       "                        \"/\" +\n",
       "                        \"<span class=\\\"treeview-maxindex\\\"></span>\" +\n",
       "                        \"</span>\" +\n",
       "                        \"<span class=\\\"treeview-buttons\\\">\" +\n",
       "                        \"<button type=\\\"button\\\" class=\\\"back-btn\\\">&lt;</input>\" +\n",
       "                        \"<button type=\\\"button\\\" class=\\\"fwd-btn\\\">&gt;</input>\" +\n",
       "                        \"</span>\" +\n",
       "                        \"</div>\" +\n",
       "                        \"<div class=\\\"tree-display\\\" id=\\\"tree-display\\\"></div>\");\n",
       "                el.find(\".back-btn\").click(function () { that.back(); });\n",
       "                el.find(\".fwd-btn\").click(function () { that.fwd(); });\n",
       "                el.find(\".treeview-maxindex\").text(this.model.get(\"maxindex\") + 1);\n",
       "                this.model.on(\"change:index\", function () { that.showTree(); });\n",
       "                this.model.on(\"change:html\", function () { that.htmlChange(); });\n",
       "                this.showTree();\n",
       "            },\n",
       "\n",
       "            back: function () {\n",
       "                this.model.set(\"index\",\n",
       "                               Math.max(this.model.get(\"index\") - 1, 0));\n",
       "            },\n",
       "\n",
       "            fwd: function () {\n",
       "                this.model.set(\"index\",\n",
       "                               Math.min(this.model.get(\"index\") + 1,\n",
       "                                        this.model.get(\"maxindex\")));\n",
       "            },\n",
       "\n",
       "            showTree: function () {\n",
       "                var idx = this.model.get(\"index\");\n",
       "                this.$el.find(\".treeview-index\").text(idx + 1);\n",
       "                this.send({ action: \"get-tree\", index: idx });\n",
       "                // this.$el.find(\"#tree-display\").html(\n",
       "                //     this.model.get(\"trees\")[this.model.get(\"index\")]);\n",
       "            },\n",
       "\n",
       "            htmlChange: function () {\n",
       "                this.$el.find(\"#tree-display\").html(this.model.get(\"html\"));\n",
       "            }\n",
       "\n",
       "        });\n",
       "\n",
       "        // Register the view with the widget manager.\n",
       "        manager.WidgetManager.register_widget_view('TreesView', TreesView);\n",
       "});\n",
       "</script>"
      ],
      "text/plain": [
       "<IPython.core.display.HTML object>"
      ]
     },
     "metadata": {},
     "output_type": "display_data"
    }
   ],
   "source": [
    "import lovett.ilovett\n",
    "lovett.ilovett.ilovett()"
   ]
  },
  {
   "cell_type": "code",
   "execution_count": 2,
   "metadata": {
    "collapsed": false
   },
   "outputs": [],
   "source": [
    "import lovett.widgets\n",
    "import lovett.tree\n",
    "import lovett.corpus"
   ]
  },
  {
   "cell_type": "code",
   "execution_count": 4,
   "metadata": {
    "collapsed": false
   },
   "outputs": [],
   "source": [
    "t = lovett.tree.parse(\"(IP (NP foo) (VB bar))\")\n",
    "t2 = lovett.tree.parse(\"(IP (NP one) (VB two))\")"
   ]
  },
  {
   "cell_type": "code",
   "execution_count": null,
   "metadata": {
    "collapsed": false
   },
   "outputs": [],
   "source": [
    "v = lovett.widgets.TreesView([t, t2])\n",
    "v"
   ]
  },
  {
   "cell_type": "code",
   "execution_count": 20,
   "metadata": {
    "collapsed": false
   },
   "outputs": [],
   "source": [
    "c = lovett.corpus.Corpus([t,t2])"
   ]
  },
  {
   "cell_type": "code",
   "execution_count": 21,
   "metadata": {
    "collapsed": false
   },
   "outputs": [],
   "source": [
    "c"
   ]
  },
  {
   "cell_type": "code",
   "execution_count": 18,
   "metadata": {
    "collapsed": false
   },
   "outputs": [
    {
     "data": {
      "text/plain": [
       "True"
      ]
     },
     "execution_count": 18,
     "metadata": {},
     "output_type": "execute_result"
    }
   ],
   "source": [
    "lovett.ilovett.injected"
   ]
  },
  {
   "cell_type": "code",
   "execution_count": 38,
   "metadata": {
    "collapsed": false
   },
   "outputs": [
    {
     "name": "stdout",
     "output_type": "stream",
     "text": [
      "'austen'\n"
     ]
    },
    {
     "data": {
      "text/html": [
       "<div class=\"tree-node\"><span class=\"tree-label\">CP-QUE-MAT</span><div class=\"tree-node tree-leaf\"><span class=\"tree-label\">CONJ</span><span class=\"tree-text\">&amp;</span></div><div class=\"tree-node\"><span class=\"tree-label\">WADVP</span><div class=\"tree-node tree-leaf\"><span class=\"tree-label\">WADV</span><span class=\"tree-text\">how</span></div></div><div class=\"tree-node\"><span class=\"tree-label\">IP-SUB</span><div class=\"tree-node tree-leaf\"><span class=\"tree-label\">ADVP</span><span class=\"tree-text\">*T*</span></div><div class=\"tree-node tree-leaf\"><span class=\"tree-label\">BEP</span><span class=\"tree-text\">is</span></div><div class=\"tree-node\"><span class=\"tree-label\">NP-SBJ</span><div class=\"tree-node tree-leaf\"><span class=\"tree-label\">NPR$</span><span class=\"tree-text\">Harriot's</span></div><div class=\"tree-node tree-leaf\"><span class=\"tree-label\">N</span><span class=\"tree-text\">cold</span></div></div></div><div class=\"tree-node tree-leaf\"><span class=\"tree-label\">.</span><span class=\"tree-text\">?</span></div></div>"
      ],
      "text/plain": [
       "NonTerminal('CP-QUE-MAT', [Leaf('CONJ', '&'), NonTerminal('WADVP', [Leaf('WADV', 'how')], metadata={'INDEX': 1, 'IDX-TYPE': 'regular'}), NonTerminal('IP-SUB', [Leaf('ADVP', '*T*', metadata={'INDEX': 1, 'IDX-TYPE': 'regular'}), Leaf('BEP', 'is'), NonTerminal('NP-SBJ', [Leaf('NPR$', 'Harriot\\'s'), Leaf('N', 'cold')])]), Leaf('.', '?')], metadata={'ID': 'AUSTEN-180X,160.6'})"
      ]
     },
     "execution_count": 38,
     "metadata": {},
     "output_type": "execute_result"
    }
   ],
   "source": [
    "%%tree austen\n",
    "( (CP-QUE-MAT (CONJ &)\n",
    "              (WADVP-1 (WADV how))\n",
    "              (IP-SUB (ADVP *T*-1)\n",
    "              (BEP is)\n",
    "              (NP-SBJ (NPR$ Harriot's) (N cold)))\n",
    "              (. ?)) \n",
    "  (ID AUSTEN-180X,160.6))"
   ]
  }
 ],
 "metadata": {
  "kernelspec": {
   "display_name": "Python 3",
   "language": "python",
   "name": "python3"
  },
  "language_info": {
   "codemirror_mode": {
    "name": "ipython",
    "version": 3
   },
   "file_extension": ".py",
   "mimetype": "text/x-python",
   "name": "python",
   "nbconvert_exporter": "python",
   "pygments_lexer": "ipython3",
   "version": "3.5.0"
  }
 },
 "nbformat": 4,
 "nbformat_minor": 0
}
