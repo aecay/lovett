{
 "cells": [
  {
   "cell_type": "code",
   "execution_count": 1,
   "metadata": {
    "collapsed": true
   },
   "outputs": [],
   "source": [
    "%load_ext autoreload\n",
    "%autoreload 2"
   ]
  },
  {
   "cell_type": "code",
   "execution_count": 2,
   "metadata": {
    "collapsed": false
   },
   "outputs": [
    {
     "data": {
      "text/html": [
       "<script>$(\"head\").append($(\"<style type='text/css' />\").text('.tree-node {\\n    margin-left: 20px;\\n    border: 1px solid silver;\\n    border-left: 4px solid #4682B4;\\n    background-color: #EFEFEF;\\n    padding: 2px;\\n    cursor: pointer;\\n    color: black;\\n}\\n\\n.tree-text {\\n    margin-left: 20px;\\n    padding-left: 4px;\\n    padding-right: 4px;\\n    border: 1px solid black;\\n    background-color: white;\\n    color: black;\\n}\\n\\n.tree-root {\\n    width: 100%;\\n}\\n'));</script><script>//global require: false\n",
       "\n",
       "require(\n",
       "    [\"nbextensions/widgets/widgets/js/widget\",\n",
       "     \"nbextensions/widgets/widgets/js/manager\"],\n",
       "    function(widget, manager) {\n",
       "        // Define the view\n",
       "        var TreesView = widget.DOMWidgetView.extend({\n",
       "            initialHtml: \"<div class=\\\"treeview-header\\\">\" +\n",
       "                \"<span class=\\\"treeview-info\\\">\" +\n",
       "                \"<span class=\\\"treeview-index\\\"></span>\" +\n",
       "                \"/\" +\n",
       "                \"<span class=\\\"treeview-maxindex\\\"></span>\" +\n",
       "                \"</span>\" +\n",
       "                \"<span class=\\\"treeview-buttons\\\">\" +\n",
       "                \"<button type=\\\"button\\\" class=\\\"back-btn\\\">&lt;</input>\" +\n",
       "                \"<button type=\\\"button\\\" class=\\\"fwd-btn\\\">&gt;</input>\" +\n",
       "                \"</span>\" +\n",
       "                \"</div>\" +\n",
       "                \"<div class=\\\"tree-display\\\" id=\\\"tree-display\\\"></div>\",\n",
       "\n",
       "            render: function () {\n",
       "                var el = this.$el;\n",
       "                var that = this;\n",
       "                el.html(this.initialHtml);\n",
       "                el.find(\".back-btn\").click(function () { that.back(); });\n",
       "                el.find(\".fwd-btn\").click(function () { that.fwd(); });\n",
       "                el.find(\".treeview-maxindex\").text(this.model.get(\"maxindex\") + 1);\n",
       "                this.model.on(\"change:index\", function () { that.showTree(); });\n",
       "                this.model.on(\"change:html\", function () { that.htmlChange(); });\n",
       "                this.initializeView();\n",
       "            },\n",
       "\n",
       "            initializeView: function () {\n",
       "                this.showTree();\n",
       "\n",
       "            },\n",
       "\n",
       "            back: function () {\n",
       "                this.model.set(\"index\",\n",
       "                               Math.max(this.model.get(\"index\") - 1, 0));\n",
       "            },\n",
       "\n",
       "            fwd: function () {\n",
       "                this.model.set(\"index\",\n",
       "                               Math.min(this.model.get(\"index\") + 1,\n",
       "                                        this.model.get(\"maxindex\")));\n",
       "            },\n",
       "\n",
       "            showTree: function () {\n",
       "                var idx = this.model.get(\"index\");\n",
       "                this.$el.find(\".treeview-index\").text(idx + 1);\n",
       "                this.send({ action: \"get-tree\", index: idx });\n",
       "                // this.$el.find(\"#tree-display\").html(\n",
       "                //     this.model.get(\"trees\")[this.model.get(\"index\")]);\n",
       "            },\n",
       "\n",
       "            htmlChange: function () {\n",
       "                this.$el.find(\"#tree-display\").html(this.model.get(\"html\"));\n",
       "            }\n",
       "\n",
       "        });\n",
       "\n",
       "        var ResultsView = TreesView.extend({\n",
       "            initialHtml: \"<div class=\\\"treeview-header\\\">\" +\n",
       "                \"<div class=\\\"treeview-query\\\">Results for query \" +\n",
       "                \"<span class=\\\"treeview-query-html\\\"></span>\" +\n",
       "                \"</div>\" +\n",
       "                \"<span class=\\\"treeview-info\\\">\" +\n",
       "                \"<span class=\\\"treeview-index\\\"></span>\" +\n",
       "                \"/\" +\n",
       "                \"<span class=\\\"treeview-maxindex\\\"></span>\" +\n",
       "                \"</span>\" +\n",
       "                \"<span class=\\\"treeview-buttons\\\">\" +\n",
       "                \"<button type=\\\"button\\\" class=\\\"back-btn\\\">&lt;</input>\" +\n",
       "                \"<button type=\\\"button\\\" class=\\\"fwd-btn\\\">&gt;</input>\" +\n",
       "                \"</span>\" +\n",
       "                \"</div>\" +\n",
       "                \"<div class=\\\"tree-display\\\" id=\\\"tree-display\\\"></div>\",\n",
       "\n",
       "            initializeView: function () {\n",
       "                this.$el.find(\".treeview-query-html\").html(this.model.get(\"query_html\"));\n",
       "                this.showTree();\n",
       "            }\n",
       "        });\n",
       "\n",
       "        // Register the view with the widget manager.\n",
       "        manager.WidgetManager.register_widget_view('TreesView', TreesView);\n",
       "        manager.WidgetManager.register_widget_view('ResultsView', ResultsView);\n",
       "});\n",
       "</script>"
      ],
      "text/plain": [
       "<IPython.core.display.HTML object>"
      ]
     },
     "metadata": {},
     "output_type": "display_data"
    }
   ],
   "source": [
    "import lovett.ilovett\n",
    "lovett.ilovett.ilovett()"
   ]
  },
  {
   "cell_type": "code",
   "execution_count": 3,
   "metadata": {
    "collapsed": false
   },
   "outputs": [],
   "source": [
    "import lovett.loader\n",
    "import lovett.query\n",
    "import lovett.db\n",
    "import lovett.debug"
   ]
  },
  {
   "cell_type": "code",
   "execution_count": 4,
   "metadata": {
    "collapsed": false
   },
   "outputs": [
    {
     "name": "stdout",
     "output_type": "stream",
     "text": [
      "CPU times: user 34.4 s, sys: 670 ms, total: 35.1 s\n",
      "Wall time: 35.2 s\n"
     ]
    }
   ],
   "source": [
    "l = lovett.loader.FileLoader(\"/home/aecay/projects/corpora/ppcmbe/\", extension=\".ref\")\n",
    "%time c = l.corpus()"
   ]
  },
  {
   "cell_type": "code",
   "execution_count": null,
   "metadata": {
    "collapsed": false
   },
   "outputs": [],
   "source": [
    "d = lovett.db.CorpusDb()\n",
    "%time d.insert_trees(c[1:1000])"
   ]
  },
  {
   "cell_type": "code",
   "execution_count": null,
   "metadata": {
    "collapsed": false
   },
   "outputs": [],
   "source": [
    "%time d2 = c.to_db()"
   ]
  },
  {
   "cell_type": "code",
   "execution_count": null,
   "metadata": {
    "collapsed": false
   },
   "outputs": [],
   "source": [
    "%time m = d.matching_trees(lovett.query.label(\"IP\") & lovett.query.idoms(lovett.query.label(\"VBP\") & lovett.query.sprec(lovett.query.label(\"NP-ACC\"))))"
   ]
  },
  {
   "cell_type": "code",
   "execution_count": null,
   "metadata": {
    "collapsed": false
   },
   "outputs": [],
   "source": [
    "len(m)"
   ]
  },
  {
   "cell_type": "code",
   "execution_count": null,
   "metadata": {
    "collapsed": false
   },
   "outputs": [],
   "source": [
    "m[0]"
   ]
  },
  {
   "cell_type": "code",
   "execution_count": null,
   "metadata": {
    "collapsed": false,
    "scrolled": true
   },
   "outputs": [],
   "source": [
    "d2.matching_trees(lovett.query.label(\"NP-ACC\"))"
   ]
  },
  {
   "cell_type": "code",
   "execution_count": 5,
   "metadata": {
    "collapsed": false
   },
   "outputs": [],
   "source": [
    "c2 = lovett.corpus.Corpus(c[1:1000])"
   ]
  },
  {
   "cell_type": "code",
   "execution_count": 6,
   "metadata": {
    "collapsed": false
   },
   "outputs": [
    {
     "name": "stdout",
     "output_type": "stream",
     "text": [
      "CPU times: user 180 ms, sys: 3.33 ms, total: 183 ms\n",
      "Wall time: 182 ms\n"
     ]
    }
   ],
   "source": [
    "%time mt = c2.matching_trees(lovett.query.label(\"NP-ACC\"))"
   ]
  },
  {
   "cell_type": "code",
   "execution_count": 9,
   "metadata": {
    "collapsed": false
   },
   "outputs": [],
   "source": [
    "mt"
   ]
  },
  {
   "cell_type": "code",
   "execution_count": 19,
   "metadata": {
    "collapsed": false
   },
   "outputs": [
    {
     "name": "stdout",
     "output_type": "stream",
     "text": [
      "CPU times: user 380 ms, sys: 0 ns, total: 380 ms\n",
      "Wall time: 379 ms\n"
     ]
    }
   ],
   "source": [
    "%time mt2 = c2.matching_trees(lovett.query.label(\"IP\") & lovett.query.idoms((lovett.query.label(\"VBP\") | lovett.query.label(\"VBD\")) & lovett.query.sprec(lovett.query.label(\"NP-ACC\"))))"
   ]
  },
  {
   "cell_type": "code",
   "execution_count": 20,
   "metadata": {
    "collapsed": false
   },
   "outputs": [
    {
     "data": {
      "text/plain": [
       "'64 results of query \\'(label(\"IP\") & idoms(((label(\"VBP\") | label(\"VBD\")) & sprec(label(\"NP-ACC\")))))\\''"
      ]
     },
     "execution_count": 20,
     "metadata": {},
     "output_type": "execute_result"
    }
   ],
   "source": [
    "repr(mt2)"
   ]
  },
  {
   "cell_type": "code",
   "execution_count": 21,
   "metadata": {
    "collapsed": false
   },
   "outputs": [],
   "source": [
    "mt2"
   ]
  }
 ],
 "metadata": {
  "kernelspec": {
   "display_name": "Python 3",
   "language": "python",
   "name": "python3"
  },
  "language_info": {
   "codemirror_mode": {
    "name": "ipython",
    "version": 3
   },
   "file_extension": ".py",
   "mimetype": "text/x-python",
   "name": "python",
   "nbconvert_exporter": "python",
   "pygments_lexer": "ipython3",
   "version": "3.5.0"
  }
 },
 "nbformat": 4,
 "nbformat_minor": 0
}
